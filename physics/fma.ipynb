{
 "cells": [
  {
   "cell_type": "markdown",
   "metadata": {},
   "source": [
    "# F=ma Summary\n",
    "\n",
    "## Rotation\n",
    "\n",
    "\\begin{equation}\n",
    "F = \\frac{mv^2}{r}\n",
    "\\end{equation}\n",
    "\n",
    "Initia\n",
    "\\begin{aligned}\n",
    "I = \\frac{2}{5}MR^2 \\\\\n",
    "I = \\frac{1}{2}M R^2 \\\\\n",
    "I = \\frac{2}{3}M R^2 \\\\\n",
    "I = M R^2 \\\\\n",
    "\\end{aligned}\n",
    "\n",
    "Accelaration:\n",
    "\\begin{aligned}\n",
    "F_{net} = Ma \\\\\n",
    "T_{net} = I\\alpha \\\\\n",
    "\\end{aligned}\n",
    "## Hooker\n",
    "\n",
    "Frequency\n",
    "\n",
    "\\begin{equation}\n",
    "\\omega = \\sqrt{\\frac{k}{m}}\n",
    "\\end{equation}\n",
    "\n",
    "When two objects with $M$ and $m$ are connected, the effective mass is\n",
    "\\begin{aligned}\n",
    "m_{eq} = \\frac{Mm}{M + m} \\\\\n",
    "\\end{aligned}\n",
    "\n",
    "and the frequency is\n",
    "\\begin{aligned}\n",
    "\\omega = \\sqrt{\\frac{k}{m_{eq}}} = \\sqrt{\\frac{k}{\\frac{Mm}{M + m}}} = \\sqrt{\\frac{k (M + m)}{Mm}}\n",
    "\\end{aligned}\n",
    "\n",
    "Serial springs\n",
    "\\begin{equation}\n",
    "k_{eq} = k_1 + k_2\n",
    "\\end{equation}\n",
    "\n",
    "Parall sprints:\n",
    "\\begin{equation}\n",
    "\\frac{1}{k_{eq}} = \\frac{1}{k_1} + \\frac{1}{k_2}\n",
    "\\end{equation}"
   ]
  },
  {
   "cell_type": "code",
   "execution_count": null,
   "metadata": {},
   "outputs": [],
   "source": []
  }
 ],
 "metadata": {
  "kernelspec": {
   "display_name": "Python 3",
   "language": "python",
   "name": "python3"
  },
  "language_info": {
   "codemirror_mode": {
    "name": "ipython",
    "version": 3
   },
   "file_extension": ".py",
   "mimetype": "text/x-python",
   "name": "python",
   "nbconvert_exporter": "python",
   "pygments_lexer": "ipython3",
   "version": "3.7.4"
  }
 },
 "nbformat": 4,
 "nbformat_minor": 2
}
